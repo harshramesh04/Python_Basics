{
  "nbformat": 4,
  "nbformat_minor": 0,
  "metadata": {
    "colab": {
      "name": "day4.ipynb",
      "provenance": [],
      "authorship_tag": "ABX9TyONknjL1kVYD97/HOtkAWUU",
      "include_colab_link": true
    },
    "kernelspec": {
      "name": "python3",
      "display_name": "Python 3"
    }
  },
  "cells": [
    {
      "cell_type": "markdown",
      "metadata": {
        "id": "view-in-github",
        "colab_type": "text"
      },
      "source": [
        "<a href=\"https://colab.research.google.com/github/victorfrank04/Python_Basics/blob/master/day4.ipynb\" target=\"_parent\"><img src=\"https://colab.research.google.com/assets/colab-badge.svg\" alt=\"Open In Colab\"/></a>"
      ]
    },
    {
      "cell_type": "code",
      "metadata": {
        "id": "5or6ucGyqp8R",
        "colab_type": "code",
        "outputId": "50c1a405-5985-4998-b09a-37518735ca34",
        "colab": {
          "base_uri": "https://localhost:8080/",
          "height": 50
        }
      },
      "source": [
        "#even & odd\n",
        "x = int(input('enter a no.:\\t'))\n",
        "if x%2==0:\n",
        "  print(x,'is even')\n",
        "else:\n",
        "  print(x, 'is odd')"
      ],
      "execution_count": 0,
      "outputs": [
        {
          "output_type": "stream",
          "text": [
            "enter a no.:\t87\n",
            "87 is odd\n"
          ],
          "name": "stdout"
        }
      ]
    },
    {
      "cell_type": "code",
      "metadata": {
        "id": "05CReMFNVB-m",
        "colab_type": "code",
        "outputId": "fb293583-6d2d-4071-ec64-72ca64fb6c31",
        "colab": {
          "base_uri": "https://localhost:8080/",
          "height": 50
        }
      },
      "source": [
        "#if else ladder\n",
        "x = int(input('enter a no.:\\t'))\n",
        "if x==0:\n",
        "  print(x,'is zero')\n",
        "elif x%2==0:\n",
        "  print(x,'is even')\n",
        "else:\n",
        "  print(x, 'is odd')"
      ],
      "execution_count": 0,
      "outputs": [
        {
          "output_type": "stream",
          "text": [
            "enter a no.:\t0\n",
            "0 is zero\n"
          ],
          "name": "stdout"
        }
      ]
    },
    {
      "cell_type": "code",
      "metadata": {
        "id": "nYMMQ-epYJhZ",
        "colab_type": "code",
        "outputId": "4b09f673-97b3-4a93-d446-0c6593604cdd",
        "colab": {
          "base_uri": "https://localhost:8080/",
          "height": 84
        }
      },
      "source": [
        "#grading application output 1\n",
        "m= float(input('Enter marks in maths out of 100'))\n",
        "p= float(input('Enter marks in physics out of 100'))\n",
        "c= float(input('Enter arks in chemistry out of 100'))\n",
        "if m< 35 or p<35 or c < 35:\n",
        "  print('you have failed the exams')\n",
        "else:\n",
        "  avg= (m+p+c)/3\n",
        "  print('Average marks is: \\t',avg)\n",
        "  if avg<=59:\n",
        "    print('your grade is C')\n",
        "  elif avg<=69:\n",
        "    print(\"Your gradeis B\")\n",
        "  elif avg>69:\n",
        "    print('Your grade is A')\n"
      ],
      "execution_count": 0,
      "outputs": [
        {
          "output_type": "stream",
          "text": [
            "Enter marks in maths out of 10034\n",
            "Enter marks in physics out of 10036\n",
            "Enter arks in chemistry out of 10039\n",
            "you have failed the exams\n"
          ],
          "name": "stdout"
        }
      ]
    },
    {
      "cell_type": "code",
      "metadata": {
        "id": "IhOR600AfPM-",
        "colab_type": "code",
        "outputId": "197348c7-0393-4187-9bac-f9a071e6d861",
        "colab": {
          "base_uri": "https://localhost:8080/",
          "height": 101
        }
      },
      "source": [
        "#grading application output 2\n",
        "m= float(input('Enter marks in maths out of 100'))\n",
        "p= float(input('Enter marks in physics out of 100'))\n",
        "c= float(input('Enter arks in chemistry out of 100'))\n",
        "if m< 35 or p<35 or c < 35:\n",
        "  print('you have failed the exams')\n",
        "else:\n",
        "  avg= (m+p+c)/3\n",
        "  print('Average marks is: \\t',avg)\n",
        "  if avg<=59:\n",
        "    print('your grade is C')\n",
        "  elif avg<=69:\n",
        "    print(\"Your gradeis B\")\n",
        "  elif avg>69:\n",
        "    print('Your grade is A')"
      ],
      "execution_count": 0,
      "outputs": [
        {
          "output_type": "stream",
          "text": [
            "Enter marks in maths out of 10048\n",
            "Enter marks in physics out of 10078\n",
            "Enter arks in chemistry out of 10086\n",
            "Average marks is: \t 70.66666666666667\n",
            "Your grade is A\n"
          ],
          "name": "stdout"
        }
      ]
    },
    {
      "cell_type": "code",
      "metadata": {
        "id": "gmO8iiGkfe93",
        "colab_type": "code",
        "outputId": "d294914e-244d-42b4-cf85-772850feeb34",
        "colab": {
          "base_uri": "https://localhost:8080/",
          "height": 101
        }
      },
      "source": [
        "#grading application output 2\n",
        "m= float(input('Enter marks in maths out of 100'))\n",
        "p= float(input('Enter marks in physics out of 100'))\n",
        "c= float(input('Enter arks in chemistry out of 100'))\n",
        "if m< 35 or p<35 or c < 35:\n",
        "  print('you have failed the exams')\n",
        "else:\n",
        "  avg= (m+p+c)/3\n",
        "  print('Average marks is: \\t',avg)\n",
        "  if avg<=59:\n",
        "    print('your grade is C')\n",
        "  elif avg<=69:\n",
        "    print(\"Your gradeis B\")\n",
        "  elif avg>69:\n",
        "    print('Your grade is A')"
      ],
      "execution_count": 0,
      "outputs": [
        {
          "output_type": "stream",
          "text": [
            "Enter marks in maths out of 10036\n",
            "Enter marks in physics out of 10037\n",
            "Enter arks in chemistry out of 10039\n",
            "Average marks is: \t 37.333333333333336\n",
            "your grade is C\n"
          ],
          "name": "stdout"
        }
      ]
    },
    {
      "cell_type": "code",
      "metadata": {
        "id": "yiYxTEhjgGbV",
        "colab_type": "code",
        "outputId": "ec2a234f-dcd3-483c-9d51-7057b623d0f9",
        "colab": {
          "base_uri": "https://localhost:8080/",
          "height": 353
        }
      },
      "source": [
        "#display numbers from 1 to 20 using while loop(demo)\n",
        "x=1\n",
        "while x<=20:\n",
        "  print(x)\n",
        "  x+=1   #incrementing x\n"
      ],
      "execution_count": 0,
      "outputs": [
        {
          "output_type": "stream",
          "text": [
            "1\n",
            "2\n",
            "3\n",
            "4\n",
            "5\n",
            "6\n",
            "7\n",
            "8\n",
            "9\n",
            "10\n",
            "11\n",
            "12\n",
            "13\n",
            "14\n",
            "15\n",
            "16\n",
            "17\n",
            "18\n",
            "19\n",
            "20\n"
          ],
          "name": "stdout"
        }
      ]
    },
    {
      "cell_type": "code",
      "metadata": {
        "id": "5npiQo5liohU",
        "colab_type": "code",
        "outputId": "ad18dda2-5244-4f96-e47b-59ed0d5ad28b",
        "colab": {
          "base_uri": "https://localhost:8080/",
          "height": 218
        }
      },
      "source": [
        "#finding odd numbers between 2 given nos.\n",
        "x= int(input('Enter min number:\\t'))\n",
        "y= int(input('Enter max number:\\t'))\n",
        "if x%2 ==0:\n",
        "  x+=1\n",
        "while x<=y:\n",
        "    print(x)\n",
        "    x+=2\n",
        "\n",
        "     \n",
        "  "
      ],
      "execution_count": 0,
      "outputs": [
        {
          "output_type": "stream",
          "text": [
            "Enter min number:\t1\n",
            "Enter max number:\t20\n",
            "1\n",
            "3\n",
            "5\n",
            "7\n",
            "9\n",
            "11\n",
            "13\n",
            "15\n",
            "17\n",
            "19\n"
          ],
          "name": "stdout"
        }
      ]
    },
    {
      "cell_type": "code",
      "metadata": {
        "id": "4CWc0ect8lrN",
        "colab_type": "code",
        "colab": {
          "base_uri": "https://localhost:8080/",
          "height": 202
        },
        "outputId": "7f30f796-75ae-444a-e5cf-0c023f99fea3"
      },
      "source": [
        "#display 50 - 70 nos using (for)\n",
        "for x in range(50,71,2):    #range(start index, end index, step)\n",
        "  print(x)"
      ],
      "execution_count": 9,
      "outputs": [
        {
          "output_type": "stream",
          "text": [
            "50\n",
            "52\n",
            "54\n",
            "56\n",
            "58\n",
            "60\n",
            "62\n",
            "64\n",
            "66\n",
            "68\n",
            "70\n"
          ],
          "name": "stdout"
        }
      ]
    },
    {
      "cell_type": "code",
      "metadata": {
        "id": "S2cWCqXNdMdS",
        "colab_type": "code",
        "colab": {
          "base_uri": "https://localhost:8080/",
          "height": 34
        },
        "outputId": "464505bf-cadd-4f3c-b17d-413100d07d5a"
      },
      "source": [
        "#product of numbers in a list\n",
        "lst=[1,3,4,5,6]\n",
        "prod=1\n",
        "for i in lst:\n",
        "  prod*=i\n",
        "print('product is:\\t',prod)\n"
      ],
      "execution_count": 10,
      "outputs": [
        {
          "output_type": "stream",
          "text": [
            "product is:\t 360\n"
          ],
          "name": "stdout"
        }
      ]
    },
    {
      "cell_type": "code",
      "metadata": {
        "id": "f5OKxwEpeQHq",
        "colab_type": "code",
        "colab": {
          "base_uri": "https://localhost:8080/",
          "height": 202
        },
        "outputId": "76ebf425-5ca5-47d9-a5fe-b4f16ca598ed"
      },
      "source": [
        "#multiplication number of any number\n",
        "x= int(input('enter nummber for multi table'))\n",
        "for i in range(1,11):\n",
        "  print(x,'x',i,'=',i*x)"
      ],
      "execution_count": 12,
      "outputs": [
        {
          "output_type": "stream",
          "text": [
            "enter nummber for multi table58\n",
            "58 x 1 = 58\n",
            "58 x 2 = 116\n",
            "58 x 3 = 174\n",
            "58 x 4 = 232\n",
            "58 x 5 = 290\n",
            "58 x 6 = 348\n",
            "58 x 7 = 406\n",
            "58 x 8 = 464\n",
            "58 x 9 = 522\n",
            "58 x 10 = 580\n"
          ],
          "name": "stdout"
        }
      ]
    },
    {
      "cell_type": "code",
      "metadata": {
        "id": "JJiXDWF1fC41",
        "colab_type": "code",
        "colab": {
          "base_uri": "https://localhost:8080/",
          "height": 252
        },
        "outputId": "e1c1ce6e-9f3e-47e8-fc05-e452b55269ee"
      },
      "source": [
        "#numbers 1 to  20 except multiples of 3\n",
        "x=0\n",
        "while x<20:\n",
        "  x+=1\n",
        "  if x%3 == 0:\n",
        "    continue\n",
        "  print(x)\n"
      ],
      "execution_count": 1,
      "outputs": [
        {
          "output_type": "stream",
          "text": [
            "1\n",
            "2\n",
            "4\n",
            "5\n",
            "7\n",
            "8\n",
            "10\n",
            "11\n",
            "13\n",
            "14\n",
            "16\n",
            "17\n",
            "19\n",
            "20\n"
          ],
          "name": "stdout"
        }
      ]
    },
    {
      "cell_type": "code",
      "metadata": {
        "id": "X7d6llAfHS1N",
        "colab_type": "code",
        "colab": {
          "base_uri": "https://localhost:8080/",
          "height": 296
        },
        "outputId": "781c2be7-2a21-4bf3-89d2-228230fd0007"
      },
      "source": [
        "#assertion\n",
        "#prompt the user to enter a no. >10\n",
        "print('OUTPUT 1')\n",
        "x= int(input(\"enter a no. greater  than 10\\t\"))\n",
        "assert x>10, \"Wrong no.\"\n",
        "print('you entered\\t',x)\n",
        "\n",
        "print('OUTPUT 2')\n",
        "y= int(input(\"enter a no. greater  than 10\\t\"))\n",
        "assert y>10, \"Wrong no.\"\n",
        "print('you entered\\t',y)"
      ],
      "execution_count": 6,
      "outputs": [
        {
          "output_type": "stream",
          "text": [
            "OUTPUT 1\n",
            "enter a no. greater  than 10\t11\n",
            "you entered\t 11\n",
            "OUTPUT 2\n",
            "enter a no. greater  than 10\t2\n"
          ],
          "name": "stdout"
        },
        {
          "output_type": "error",
          "ename": "AssertionError",
          "evalue": "ignored",
          "traceback": [
            "\u001b[0;31m---------------------------------------------------------------------------\u001b[0m",
            "\u001b[0;31mAssertionError\u001b[0m                            Traceback (most recent call last)",
            "\u001b[0;32m<ipython-input-6-3085302ab73e>\u001b[0m in \u001b[0;36m<module>\u001b[0;34m()\u001b[0m\n\u001b[1;32m      6\u001b[0m \u001b[0mprint\u001b[0m\u001b[0;34m(\u001b[0m\u001b[0;34m'OUTPUT 2'\u001b[0m\u001b[0;34m)\u001b[0m\u001b[0;34m\u001b[0m\u001b[0;34m\u001b[0m\u001b[0m\n\u001b[1;32m      7\u001b[0m \u001b[0my\u001b[0m\u001b[0;34m=\u001b[0m \u001b[0mint\u001b[0m\u001b[0;34m(\u001b[0m\u001b[0minput\u001b[0m\u001b[0;34m(\u001b[0m\u001b[0;34m\"enter a no. greater  than 10\\t\"\u001b[0m\u001b[0;34m)\u001b[0m\u001b[0;34m)\u001b[0m\u001b[0;34m\u001b[0m\u001b[0;34m\u001b[0m\u001b[0m\n\u001b[0;32m----> 8\u001b[0;31m \u001b[0;32massert\u001b[0m \u001b[0my\u001b[0m\u001b[0;34m>\u001b[0m\u001b[0;36m10\u001b[0m\u001b[0;34m,\u001b[0m \u001b[0;34m\"Wrong no.\"\u001b[0m\u001b[0;34m\u001b[0m\u001b[0;34m\u001b[0m\u001b[0m\n\u001b[0m\u001b[1;32m      9\u001b[0m \u001b[0mprint\u001b[0m\u001b[0;34m(\u001b[0m\u001b[0;34m'you entered\\t'\u001b[0m\u001b[0;34m,\u001b[0m\u001b[0my\u001b[0m\u001b[0;34m)\u001b[0m\u001b[0;34m\u001b[0m\u001b[0;34m\u001b[0m\u001b[0m\n",
            "\u001b[0;31mAssertionError\u001b[0m: Wrong no."
          ]
        }
      ]
    },
    {
      "cell_type": "code",
      "metadata": {
        "id": "-H7WYGO4LroI",
        "colab_type": "code",
        "colab": {
          "base_uri": "https://localhost:8080/",
          "height": 1000
        },
        "outputId": "8a8d022f-3269-4be4-b107-b38c869bcaba"
      },
      "source": [
        "x= int(input('Enter a number'))\n",
        "print('numbers 1 to\\t',x,':')\n",
        "i=0\n",
        "while i<x:\n",
        "  i+=1\n",
        "  print(i)\n",
        "print('numbers till\\t',x,'except multiples of 10 are:')\n",
        "i=0\n",
        "while i<x:\n",
        "  i+=1\n",
        "  if i>=100:\n",
        "    break\n",
        "  if i%10 == 0:\n",
        "    continue\n",
        "  print(i)\n"
      ],
      "execution_count": 17,
      "outputs": [
        {
          "output_type": "stream",
          "text": [
            "ERROR! Session/line number was not unique in database. History logging moved to new session 59\n",
            "Enter a number110\n",
            "numbers 1 to\t 110 :\n",
            "1\n",
            "2\n",
            "3\n",
            "4\n",
            "5\n",
            "6\n",
            "7\n",
            "8\n",
            "9\n",
            "10\n",
            "11\n",
            "12\n",
            "13\n",
            "14\n",
            "15\n",
            "16\n",
            "17\n",
            "18\n",
            "19\n",
            "20\n",
            "21\n",
            "22\n",
            "23\n",
            "24\n",
            "25\n",
            "26\n",
            "27\n",
            "28\n",
            "29\n",
            "30\n",
            "31\n",
            "32\n",
            "33\n",
            "34\n",
            "35\n",
            "36\n",
            "37\n",
            "38\n",
            "39\n",
            "40\n",
            "41\n",
            "42\n",
            "43\n",
            "44\n",
            "45\n",
            "46\n",
            "47\n",
            "48\n",
            "49\n",
            "50\n",
            "51\n",
            "52\n",
            "53\n",
            "54\n",
            "55\n",
            "56\n",
            "57\n",
            "58\n",
            "59\n",
            "60\n",
            "61\n",
            "62\n",
            "63\n",
            "64\n",
            "65\n",
            "66\n",
            "67\n",
            "68\n",
            "69\n",
            "70\n",
            "71\n",
            "72\n",
            "73\n",
            "74\n",
            "75\n",
            "76\n",
            "77\n",
            "78\n",
            "79\n",
            "80\n",
            "81\n",
            "82\n",
            "83\n",
            "84\n",
            "85\n",
            "86\n",
            "87\n",
            "88\n",
            "89\n",
            "90\n",
            "91\n",
            "92\n",
            "93\n",
            "94\n",
            "95\n",
            "96\n",
            "97\n",
            "98\n",
            "99\n",
            "100\n",
            "101\n",
            "102\n",
            "103\n",
            "104\n",
            "105\n",
            "106\n",
            "107\n",
            "108\n",
            "109\n",
            "110\n",
            "numbers till\t 110 except multiples of 10 are:\n",
            "1\n",
            "2\n",
            "3\n",
            "4\n",
            "5\n",
            "6\n",
            "7\n",
            "8\n",
            "9\n",
            "11\n",
            "12\n",
            "13\n",
            "14\n",
            "15\n",
            "16\n",
            "17\n",
            "18\n",
            "19\n",
            "21\n",
            "22\n",
            "23\n",
            "24\n",
            "25\n",
            "26\n",
            "27\n",
            "28\n",
            "29\n",
            "31\n",
            "32\n",
            "33\n",
            "34\n",
            "35\n",
            "36\n",
            "37\n",
            "38\n",
            "39\n",
            "41\n",
            "42\n",
            "43\n",
            "44\n",
            "45\n",
            "46\n",
            "47\n",
            "48\n",
            "49\n",
            "51\n",
            "52\n",
            "53\n",
            "54\n",
            "55\n",
            "56\n",
            "57\n",
            "58\n",
            "59\n",
            "61\n",
            "62\n",
            "63\n",
            "64\n",
            "65\n",
            "66\n",
            "67\n",
            "68\n",
            "69\n",
            "71\n",
            "72\n",
            "73\n",
            "74\n",
            "75\n",
            "76\n",
            "77\n",
            "78\n",
            "79\n",
            "81\n",
            "82\n",
            "83\n",
            "84\n",
            "85\n",
            "86\n",
            "87\n",
            "88\n",
            "89\n",
            "91\n",
            "92\n",
            "93\n",
            "94\n",
            "95\n",
            "96\n",
            "97\n",
            "98\n",
            "99\n"
          ],
          "name": "stdout"
        }
      ]
    },
    {
      "cell_type": "code",
      "metadata": {
        "id": "m1HMvWLRMYiH",
        "colab_type": "code",
        "colab": {}
      },
      "source": [
        ""
      ],
      "execution_count": 0,
      "outputs": []
    }
  ]
}