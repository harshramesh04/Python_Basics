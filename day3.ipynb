{
  "nbformat": 4,
  "nbformat_minor": 0,
  "metadata": {
    "colab": {
      "name": "day3.ipynb",
      "provenance": [],
      "authorship_tag": "ABX9TyMOKXDIImn3Q54+7S2vNrOM",
      "include_colab_link": true
    },
    "kernelspec": {
      "name": "python3",
      "display_name": "Python 3"
    }
  },
  "cells": [
    {
      "cell_type": "markdown",
      "metadata": {
        "id": "view-in-github",
        "colab_type": "text"
      },
      "source": [
        "<a href=\"https://colab.research.google.com/github/victorfrank04/Python_Basics/blob/master/day3.ipynb\" target=\"_parent\"><img src=\"https://colab.research.google.com/assets/colab-badge.svg\" alt=\"Open In Colab\"/></a>"
      ]
    },
    {
      "cell_type": "code",
      "metadata": {
        "id": "HkZcEF6cQdEs",
        "colab_type": "code",
        "colab": {
          "base_uri": "https://localhost:8080/",
          "height": 118
        },
        "outputId": "8fd23dc2-e582-4b7d-f227-9f814783c3f9"
      },
      "source": [
        "#student details\n",
        "sid= int(input(\"Enter Student Id\"))\n",
        "sname= input(\"enter student name\")\n",
        "marks=float(input('Enter marks'))\n",
        "print(\"ID:\",sid,\"\\nName:\",sname,\"\\nMarks:\",marks)"
      ],
      "execution_count": 2,
      "outputs": [
        {
          "output_type": "stream",
          "text": [
            "Enter Student Id1234\n",
            "enter student nameharsh r\n",
            "Enter marks86.986\n",
            "ID: 1234 \n",
            "Name: harsh r \n",
            "Marks: 86.986\n"
          ],
          "name": "stdout"
        }
      ]
    },
    {
      "cell_type": "code",
      "metadata": {
        "id": "qnBl_1bhp3JS",
        "colab_type": "code",
        "colab": {
          "base_uri": "https://localhost:8080/",
          "height": 50
        },
        "outputId": "2b81d10a-b503-4391-9409-9ad5045358e2"
      },
      "source": [
        "#average of three numbers\n",
        "a,b,c=[int(x) for x in input(\"enter three integer nos.:\").split()]\n",
        "avg= (a+b+c)/3\n",
        "print('Average is:',avg)"
      ],
      "execution_count": 6,
      "outputs": [
        {
          "output_type": "stream",
          "text": [
            "enter three integer nos.:3 5 6\n",
            "Average is: 4.666666666666667\n"
          ],
          "name": "stdout"
        }
      ]
    },
    {
      "cell_type": "code",
      "metadata": {
        "id": "gmddSDuurKu4",
        "colab_type": "code",
        "colab": {
          "base_uri": "https://localhost:8080/",
          "height": 67
        },
        "outputId": "bd6e4e6e-5f60-48b5-e9eb-bb12d5f86609"
      },
      "source": [
        "#avg of first 'n' nos.\n",
        "n= int(input('enter number of integers'))\n",
        "avg=0\n",
        "sum=0\n",
        "for num in range(0,n+1,1):\n",
        "  sum=sum+num\n",
        "avg=sum/n\n",
        "print('Average of %n', 'nos. is:',avg)"
      ],
      "execution_count": 7,
      "outputs": [
        {
          "output_type": "stream",
          "text": [
            "ERROR! Session/line number was not unique in database. History logging moved to new session 60\n",
            "enter number of integers5\n",
            "Average of %n nos. is: 3.0\n"
          ],
          "name": "stdout"
        }
      ]
    },
    {
      "cell_type": "code",
      "metadata": {
        "id": "lUwdJcUgs_c6",
        "colab_type": "code",
        "colab": {
          "base_uri": "https://localhost:8080/",
          "height": 67
        },
        "outputId": "d487c8b4-695c-450e-cb69-d7bdbeb1b709"
      },
      "source": [
        "#avg of nos. entered by user\n",
        "lst=[int(x) for x in input('enter numbers:').split()]\n",
        "print('numbers are',lst)\n",
        "sum=0\n",
        "avg=0\n",
        "for num in lst:\n",
        "  sum += int(num)\n",
        "avg = sum/len(lst)\n",
        "print('Average is= ',avg)"
      ],
      "execution_count": 10,
      "outputs": [
        {
          "output_type": "stream",
          "text": [
            "enter numbers:1 2 3 4 5\n",
            "numbers are [1, 2, 3, 4, 5]\n",
            "Average is=  3.0\n"
          ],
          "name": "stdout"
        }
      ]
    },
    {
      "cell_type": "code",
      "metadata": {
        "id": "L1ADM0F0u-Y4",
        "colab_type": "code",
        "colab": {
          "base_uri": "https://localhost:8080/",
          "height": 50
        },
        "outputId": "9ea79f31-52b1-4df1-d5dc-4e75d85737df"
      },
      "source": [
        "#area of circle\n",
        "r= float(input('enter radius'))\n",
        "pi= 22/7\n",
        "area= pi*r**2\n",
        "print('area= ',area)"
      ],
      "execution_count": 12,
      "outputs": [
        {
          "output_type": "stream",
          "text": [
            "enter radius5\n",
            "area=  78.57142857142857\n"
          ],
          "name": "stdout"
        }
      ]
    },
    {
      "cell_type": "code",
      "metadata": {
        "id": "JQhDsmQjvXoU",
        "colab_type": "code",
        "colab": {
          "base_uri": "https://localhost:8080/",
          "height": 50
        },
        "outputId": "2d5cbc59-2f45-4e9a-c823-fb55bb90f3a8"
      },
      "source": [
        "#math module\n",
        "import  math\n",
        "r= float(input('enter radius'))\n",
        "area= pi*r**2\n",
        "print('area= ',area)"
      ],
      "execution_count": 13,
      "outputs": [
        {
          "output_type": "stream",
          "text": [
            "enter radius5\n",
            "area=  78.57142857142857\n"
          ],
          "name": "stdout"
        }
      ]
    }
  ]
}