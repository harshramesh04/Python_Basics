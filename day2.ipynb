{
  "nbformat": 4,
  "nbformat_minor": 0,
  "metadata": {
    "colab": {
      "name": "day2.ipynb",
      "provenance": [],
      "authorship_tag": "ABX9TyN7dXGb4MLajYVqT8jF1OhX",
      "include_colab_link": true
    },
    "kernelspec": {
      "name": "python3",
      "display_name": "Python 3"
    }
  },
  "cells": [
    {
      "cell_type": "markdown",
      "metadata": {
        "id": "view-in-github",
        "colab_type": "text"
      },
      "source": [
        "<a href=\"https://colab.research.google.com/github/victorfrank04/Python_Basics/blob/master/day2.ipynb\" target=\"_parent\"><img src=\"https://colab.research.google.com/assets/colab-badge.svg\" alt=\"Open In Colab\"/></a>"
      ]
    },
    {
      "cell_type": "code",
      "metadata": {
        "id": "LcrUHFyQ1lQl",
        "colab_type": "code",
        "outputId": "80e68582-5435-4598-e740-a59fd2969258",
        "colab": {
          "base_uri": "https://localhost:8080/",
          "height": 34
        }
      },
      "source": [
        "#Sequence types\n",
        "  #printing a string\n",
        "s=\"I love python\"\n",
        "print(s, type(s))"
      ],
      "execution_count": 0,
      "outputs": [
        {
          "output_type": "stream",
          "text": [
            "I love python <class 'str'>\n"
          ],
          "name": "stdout"
        }
      ]
    },
    {
      "cell_type": "code",
      "metadata": {
        "id": "yFWcBPtzdOBq",
        "colab_type": "code",
        "outputId": "f5aa9fb6-4d63-49e0-d473-79b7bd80dcf8",
        "colab": {
          "base_uri": "https://localhost:8080/",
          "height": 87
        }
      },
      "source": [
        "#printing strings in different lines\n",
        "s1='''I love python\n",
        "and\n",
        "also  machine learning\n",
        "and ai'''\n",
        "print(s1,type(s1))"
      ],
      "execution_count": 0,
      "outputs": [
        {
          "output_type": "stream",
          "text": [
            "I love python\n",
            "and\n",
            "also  machine learning\n",
            "and ai <class 'str'>\n"
          ],
          "name": "stdout"
        }
      ]
    },
    {
      "cell_type": "code",
      "metadata": {
        "id": "pAhbYdumfBmU",
        "colab_type": "code",
        "outputId": "04b4c35c-33bb-400b-bf8f-59aeb759fb7d",
        "colab": {
          "base_uri": "https://localhost:8080/",
          "height": 34
        }
      },
      "source": [
        "#printing a particular letter from string using position\n",
        "print(s[2], s[7])"
      ],
      "execution_count": 0,
      "outputs": [
        {
          "output_type": "stream",
          "text": [
            "l p\n"
          ],
          "name": "stdout"
        }
      ]
    },
    {
      "cell_type": "code",
      "metadata": {
        "id": "FH7DAIQ0g4GJ",
        "colab_type": "code",
        "outputId": "b5b47328-9442-4f1a-8aa4-b7ed1a895b00",
        "colab": {
          "base_uri": "https://localhost:8080/",
          "height": 210
        }
      },
      "source": [
        "#printing a string multiple  times\n",
        "s=\"I love python\"\n",
        "s1='''I love python\n",
        "and\n",
        "also  machine learning\n",
        "and ai'''\n",
        "print(s*2)\n",
        "print(s1*3)"
      ],
      "execution_count": 0,
      "outputs": [
        {
          "output_type": "stream",
          "text": [
            "I love pythonI love python\n",
            "I love python\n",
            "and\n",
            "also  machine learning\n",
            "and aiI love python\n",
            "and\n",
            "also  machine learning\n",
            "and aiI love python\n",
            "and\n",
            "also  machine learning\n",
            "and ai\n"
          ],
          "name": "stdout"
        }
      ]
    },
    {
      "cell_type": "code",
      "metadata": {
        "id": "C8Y039NKfuE7",
        "colab_type": "code",
        "outputId": "8696414b-f332-494c-daf4-272d0f4e1ea5",
        "colab": {
          "base_uri": "https://localhost:8080/",
          "height": 34
        }
      },
      "source": [
        "#Length of a string\n",
        "print(len(s), len(s1))"
      ],
      "execution_count": 0,
      "outputs": [
        {
          "output_type": "stream",
          "text": [
            "13 47\n"
          ],
          "name": "stdout"
        }
      ]
    },
    {
      "cell_type": "code",
      "metadata": {
        "id": "4y_KPGkGgYwr",
        "colab_type": "code",
        "outputId": "2100e779-5a93-4bce-9d7f-a82b37ced486",
        "colab": {
          "base_uri": "https://localhost:8080/",
          "height": 52
        }
      },
      "source": [
        "#slicing of a string (s[start:end])\n",
        "print(s[:5])  #left to right\n",
        "print(s[-5:-2]) #from right to  left"
      ],
      "execution_count": 0,
      "outputs": [
        {
          "output_type": "stream",
          "text": [
            "I lov\n",
            "yth\n"
          ],
          "name": "stdout"
        }
      ]
    },
    {
      "cell_type": "code",
      "metadata": {
        "id": "0LRk6WHSgrdg",
        "colab_type": "code",
        "outputId": "7e1239a9-5928-4e98-b478-3d340406a8da",
        "colab": {
          "base_uri": "https://localhost:8080/",
          "height": 52
        }
      },
      "source": [
        "#steps in slicing\n",
        "print(s[0:8:2]) #third value is for steps\n",
        "print(s[::-1])  #to print the string in reverse order"
      ],
      "execution_count": 0,
      "outputs": [
        {
          "output_type": "stream",
          "text": [
            "Ilv \n",
            "nohtyp evol I\n"
          ],
          "name": "stdout"
        }
      ]
    },
    {
      "cell_type": "code",
      "metadata": {
        "id": "R_Tvw9HLiPBH",
        "colab_type": "code",
        "outputId": "348032c7-0a9a-4b87-89de-5178a6b47adc",
        "colab": {
          "base_uri": "https://localhost:8080/",
          "height": 228
        }
      },
      "source": [
        "#string strip\n",
        "print(s.strip(),s1) #removes space from both left and right of  string\n",
        "print(s.lstrip(),s1) #removes space from left\n",
        "print(s.rstrip(),s1) #removes space from right"
      ],
      "execution_count": 0,
      "outputs": [
        {
          "output_type": "stream",
          "text": [
            "I love python I love python\n",
            "and\n",
            "also  machine learning\n",
            "and ai\n",
            "I love python I love python\n",
            "and\n",
            "also  machine learning\n",
            "and ai\n",
            "I love python I love python\n",
            "and\n",
            "also  machine learning\n",
            "and ai\n"
          ],
          "name": "stdout"
        }
      ]
    },
    {
      "cell_type": "code",
      "metadata": {
        "id": "rldTEySyjCqJ",
        "colab_type": "code",
        "outputId": "15c5af33-5053-4cfe-fc49-747736034183",
        "colab": {
          "base_uri": "https://localhost:8080/",
          "height": 122
        }
      },
      "source": [
        "#more string methods\n",
        "print(s.find('pyt',0,len(s)))  #find where a part of string is located\n",
        "print(s.count('o'))       #count no. of times substrate repeats\n",
        "print(s.replace('python','c++')) #replacing any part of string with any other\n",
        "print(s.upper())\n",
        "print(s.lower())\n",
        "print(s.title())"
      ],
      "execution_count": 0,
      "outputs": [
        {
          "output_type": "stream",
          "text": [
            "7\n",
            "2\n",
            "I love c++\n",
            "I LOVE PYTHON\n",
            "i love python\n",
            "I Love Python\n"
          ],
          "name": "stdout"
        }
      ]
    },
    {
      "cell_type": "code",
      "metadata": {
        "id": "edCTEjiotgu3",
        "colab_type": "code",
        "outputId": "10df2e5c-3dfc-4574-9a88-5a319c047d2b",
        "colab": {
          "base_uri": "https://localhost:8080/",
          "height": 70
        }
      },
      "source": [
        "#LIST\n",
        "lst=[10,'harsh',-20,33.33]\n",
        "print(lst)\n",
        "print(lst[3])\n",
        "print(lst[1:3])"
      ],
      "execution_count": 0,
      "outputs": [
        {
          "output_type": "stream",
          "text": [
            "[10, 'harsh', -20, 33.33]\n",
            "33.33\n",
            "['harsh', -20]\n"
          ],
          "name": "stdout"
        }
      ]
    },
    {
      "cell_type": "code",
      "metadata": {
        "id": "w77HQQXi2k2v",
        "colab_type": "code",
        "outputId": "7b5b8f66-5015-4794-c2d0-d613d9e3037a",
        "colab": {
          "base_uri": "https://localhost:8080/",
          "height": 34
        }
      },
      "source": [
        "lst=[10,'harsh',-20,33.33]\n",
        "print(len(lst))   #length of list"
      ],
      "execution_count": 0,
      "outputs": [
        {
          "output_type": "stream",
          "text": [
            "4\n"
          ],
          "name": "stdout"
        }
      ]
    },
    {
      "cell_type": "code",
      "metadata": {
        "id": "9JLbjh8-mxEl",
        "colab_type": "code",
        "outputId": "bdb2e217-3f91-4002-edd8-3677e4217757",
        "colab": {
          "base_uri": "https://localhost:8080/",
          "height": 34
        }
      },
      "source": [
        "lst.append(355)  #add a value to the list\n",
        "lst.remove('harsh')  #remove an object from the list\n",
        "del(lst[3]) #remove using indexing or position\n",
        "print(lst)"
      ],
      "execution_count": 0,
      "outputs": [
        {
          "output_type": "stream",
          "text": [
            "[10, -20, 33.33]\n"
          ],
          "name": "stdout"
        }
      ]
    },
    {
      "cell_type": "code",
      "metadata": {
        "id": "GkOCiNNtoIiI",
        "colab_type": "code",
        "colab": {
          "base_uri": "https://localhost:8080/",
          "height": 34
        },
        "outputId": "c1233469-381c-46be-f61f-70201419de23"
      },
      "source": [
        "lst=[10,'harsh',-20,33.33]\n",
        "print(lst)"
      ],
      "execution_count": 1,
      "outputs": [
        {
          "output_type": "stream",
          "text": [
            "[10, 'harsh', -20, 33.33]\n"
          ],
          "name": "stdout"
        }
      ]
    },
    {
      "cell_type": "code",
      "metadata": {
        "id": "O75msYY9khcU",
        "colab_type": "code",
        "colab": {
          "base_uri": "https://localhost:8080/",
          "height": 34
        },
        "outputId": "481330ad-d67f-4ed9-96ab-052aebf86990"
      },
      "source": [
        "#tuple\n",
        "tpl=(40,30,43.3,'harsh')\n",
        "print(tpl,type(tpl))"
      ],
      "execution_count": 4,
      "outputs": [
        {
          "output_type": "stream",
          "text": [
            "(40, 30, 43.3, 'harsh') <class 'tuple'>\n"
          ],
          "name": "stdout"
        }
      ]
    },
    {
      "cell_type": "code",
      "metadata": {
        "id": "e3lIvgIkk_Vr",
        "colab_type": "code",
        "colab": {
          "base_uri": "https://localhost:8080/",
          "height": 34
        },
        "outputId": "115e39a6-dd00-4fc8-a882-9bfe727bd368"
      },
      "source": [
        "#SET type\n",
        "x={1,2,3,4,'a'}  #set does not allow repeated items\n",
        "print(x,type(x))"
      ],
      "execution_count": 6,
      "outputs": [
        {
          "output_type": "stream",
          "text": [
            "{1, 2, 3, 4, 'a'} <class 'set'>\n"
          ],
          "name": "stdout"
        }
      ]
    },
    {
      "cell_type": "code",
      "metadata": {
        "id": "bLn0uuuatArb",
        "colab_type": "code",
        "colab": {
          "base_uri": "https://localhost:8080/",
          "height": 34
        },
        "outputId": "6f7becdd-4e02-450e-cb40-938e03eb7339"
      },
      "source": [
        "x.update([33,10])\n",
        "print(x)"
      ],
      "execution_count": 7,
      "outputs": [
        {
          "output_type": "stream",
          "text": [
            "{1, 2, 3, 4, 33, 'a', 10}\n"
          ],
          "name": "stdout"
        }
      ]
    },
    {
      "cell_type": "code",
      "metadata": {
        "id": "Ul3M0oKHtVBL",
        "colab_type": "code",
        "colab": {
          "base_uri": "https://localhost:8080/",
          "height": 34
        },
        "outputId": "79b517ea-9610-4330-ab4a-24468115bfdc"
      },
      "source": [
        "x.remove('a')\n",
        "print(x)"
      ],
      "execution_count": 8,
      "outputs": [
        {
          "output_type": "stream",
          "text": [
            "{1, 2, 3, 4, 33, 10}\n"
          ],
          "name": "stdout"
        }
      ]
    },
    {
      "cell_type": "code",
      "metadata": {
        "id": "iE_SiBCYwsDR",
        "colab_type": "code",
        "colab": {}
      },
      "source": [
        "#frozen set\n",
        "f= frozenset(x)"
      ],
      "execution_count": 0,
      "outputs": []
    },
    {
      "cell_type": "code",
      "metadata": {
        "id": "EwvBGgqVzpuB",
        "colab_type": "code",
        "colab": {
          "base_uri": "https://localhost:8080/",
          "height": 185
        },
        "outputId": "a66094cf-66e8-43f7-de57-5010712c02df"
      },
      "source": [
        "f.update([10])\n",
        "print(f) #set is frozen so no changes will be applied"
      ],
      "execution_count": 11,
      "outputs": [
        {
          "output_type": "error",
          "ename": "AttributeError",
          "evalue": "ignored",
          "traceback": [
            "\u001b[0;31m---------------------------------------------------------------------------\u001b[0m",
            "\u001b[0;31mAttributeError\u001b[0m                            Traceback (most recent call last)",
            "\u001b[0;32m<ipython-input-11-ebc6c3ebbbb8>\u001b[0m in \u001b[0;36m<module>\u001b[0;34m()\u001b[0m\n\u001b[0;32m----> 1\u001b[0;31m \u001b[0mf\u001b[0m\u001b[0;34m.\u001b[0m\u001b[0mupdate\u001b[0m\u001b[0;34m(\u001b[0m\u001b[0;34m[\u001b[0m\u001b[0;36m10\u001b[0m\u001b[0;34m]\u001b[0m\u001b[0;34m)\u001b[0m\u001b[0;34m\u001b[0m\u001b[0;34m\u001b[0m\u001b[0m\n\u001b[0m\u001b[1;32m      2\u001b[0m \u001b[0mprint\u001b[0m\u001b[0;34m(\u001b[0m\u001b[0mf\u001b[0m\u001b[0;34m)\u001b[0m\u001b[0;34m\u001b[0m\u001b[0;34m\u001b[0m\u001b[0m\n",
            "\u001b[0;31mAttributeError\u001b[0m: 'frozenset' object has no attribute 'update'"
          ]
        }
      ]
    }
  ]
}