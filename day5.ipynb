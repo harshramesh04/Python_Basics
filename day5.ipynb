{
  "nbformat": 4,
  "nbformat_minor": 0,
  "metadata": {
    "colab": {
      "name": "day5.ipynb",
      "provenance": [],
      "authorship_tag": "ABX9TyNV/6Nehy27Wax6JvhX3+L4",
      "include_colab_link": true
    },
    "kernelspec": {
      "name": "python3",
      "display_name": "Python 3"
    }
  },
  "cells": [
    {
      "cell_type": "markdown",
      "metadata": {
        "id": "view-in-github",
        "colab_type": "text"
      },
      "source": [
        "<a href=\"https://colab.research.google.com/github/victorfrank04/Python_Basics/blob/master/day5.ipynb\" target=\"_parent\"><img src=\"https://colab.research.google.com/assets/colab-badge.svg\" alt=\"Open In Colab\"/></a>"
      ]
    },
    {
      "cell_type": "code",
      "metadata": {
        "id": "7K2JwEjuE_BJ",
        "colab_type": "code",
        "outputId": "8cf8c856-cf8c-4566-cb42-e316d55f3307",
        "colab": {
          "base_uri": "https://localhost:8080/",
          "height": 34
        }
      },
      "source": [
        "def average(a,b):   #defining funcion\n",
        "  print('Average is:\\t',(a+b)/2)\n",
        "average(10,20)\n"
      ],
      "execution_count": 0,
      "outputs": [
        {
          "output_type": "stream",
          "text": [
            "Average is:\t 15.0\n"
          ],
          "name": "stdout"
        }
      ]
    },
    {
      "cell_type": "code",
      "metadata": {
        "id": "sJ6i5BTtWBLG",
        "colab_type": "code",
        "outputId": "469f3995-3698-4012-d6b6-a28da6a541b7",
        "colab": {
          "base_uri": "https://localhost:8080/",
          "height": 34
        }
      },
      "source": [
        "def average(a,b):\n",
        " return (a+b)/2\n",
        "print(average(10,20))\n"
      ],
      "execution_count": 0,
      "outputs": [
        {
          "output_type": "stream",
          "text": [
            "15.0\n"
          ],
          "name": "stdout"
        }
      ]
    },
    {
      "cell_type": "code",
      "metadata": {
        "id": "4BpQZxfPWipE",
        "colab_type": "code",
        "outputId": "f308ebb2-4bee-4caa-aa69-13163f9d12bd",
        "colab": {
          "base_uri": "https://localhost:8080/",
          "height": 34
        }
      },
      "source": [
        "def calc(a,b):\n",
        "  x=a+b\n",
        "  y=a-b\n",
        "  z=a*b\n",
        "  u=a/b\n",
        "  return x,y,z,u\n",
        "print(calc(10,5))"
      ],
      "execution_count": 0,
      "outputs": [
        {
          "output_type": "stream",
          "text": [
            "(15, 5, 50, 2.0)\n"
          ],
          "name": "stdout"
        }
      ]
    },
    {
      "cell_type": "code",
      "metadata": {
        "id": "l2BrySwmXIT3",
        "colab_type": "code",
        "outputId": "7abd2c87-8773-41ef-99ad-d00ad918adf0",
        "colab": {
          "base_uri": "https://localhost:8080/",
          "height": 50
        }
      },
      "source": [
        "#recursion\n",
        "n=int(input('Enter a number:\\t'))\n",
        "def factorial(n):\n",
        "  if n==0:\n",
        "    return 1\n",
        "  else:\n",
        "    result= n*factorial(n-1)\n",
        "    return result\n",
        "print(factorial(n))\n"
      ],
      "execution_count": 0,
      "outputs": [
        {
          "output_type": "stream",
          "text": [
            "Enter a number:\t0\n",
            "1\n"
          ],
          "name": "stdout"
        }
      ]
    },
    {
      "cell_type": "code",
      "metadata": {
        "id": "Cs3ok9c2hKX2",
        "colab_type": "code",
        "colab": {
          "base_uri": "https://localhost:8080/",
          "height": 50
        },
        "outputId": "fd686130-47b5-4584-b6a6-418df536c07e"
      },
      "source": [
        "#LAMBDA\n",
        "n= int(input('Enter a number'))\n",
        "'''def cube(n):\n",
        "  return n**3'''\n",
        "f= lambda n:n**3\n",
        "print('cube is', f(n))\n"
      ],
      "execution_count": 3,
      "outputs": [
        {
          "output_type": "stream",
          "text": [
            "Enter a number2\n",
            "cube is 8\n"
          ],
          "name": "stdout"
        }
      ]
    },
    {
      "cell_type": "code",
      "metadata": {
        "id": "y1xRW3BnMt-5",
        "colab_type": "code",
        "colab": {
          "base_uri": "https://localhost:8080/",
          "height": 50
        },
        "outputId": "3ef54b46-d3fd-4ccf-c78b-5ab2527a6391"
      },
      "source": [
        "#even odd using lambda\n",
        "l= lambda x: 'EVEN' if x%2  ==0 else 'ODD'\n",
        "print (l(3))\n",
        "print (l(58))"
      ],
      "execution_count": 5,
      "outputs": [
        {
          "output_type": "stream",
          "text": [
            "ODD\n",
            "EVEN\n"
          ],
          "name": "stdout"
        }
      ]
    },
    {
      "cell_type": "code",
      "metadata": {
        "id": "sGs321rrRq39",
        "colab_type": "code",
        "colab": {
          "base_uri": "https://localhost:8080/",
          "height": 34
        },
        "outputId": "f8e47161-395b-4b92-d3fb-ca75e923b3bb"
      },
      "source": [
        "#addition using lambda\n",
        "l= lambda a,b: a+b\n",
        "print('addition of a and b',l(12,34))"
      ],
      "execution_count": 7,
      "outputs": [
        {
          "output_type": "stream",
          "text": [
            "addition of a and b 46\n"
          ],
          "name": "stdout"
        }
      ]
    },
    {
      "cell_type": "code",
      "metadata": {
        "id": "DqXmhkdnTArP",
        "colab_type": "code",
        "colab": {}
      },
      "source": [
        ""
      ],
      "execution_count": 0,
      "outputs": []
    }
  ]
}